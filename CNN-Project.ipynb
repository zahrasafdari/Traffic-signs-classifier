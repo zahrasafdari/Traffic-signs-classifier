{
  "cells": [
    {
      "cell_type": "code",
      "execution_count": null,
      "metadata": {
        "colab": {
          "base_uri": "https://localhost:8080/"
        },
        "id": "kJJN3q-y9duh",
        "outputId": "9dfe79e3-3ee7-4f18-dd12-cc2f3cf10d79"
      },
      "outputs": [],
      "source": [
        "pip install Kaggle"
      ]
    },
    {
      "cell_type": "code",
      "execution_count": null,
      "metadata": {
        "colab": {
          "base_uri": "https://localhost:8080/"
        },
        "id": "UYZugqhxTAz9",
        "outputId": "fbcc6a04-079f-4d7b-a555-c348cc720278"
      },
      "outputs": [
        {
          "name": "stdout",
          "output_type": "stream",
          "text": [
            "Mounted at /content/drive\n"
          ]
        }
      ],
      "source": [
        "from google.colab import drive\n",
        "drive.mount('/content/drive')"
      ]
    },
    {
      "cell_type": "code",
      "execution_count": 1,
      "metadata": {
        "id": "sHetoMv9GdtZ"
      },
      "outputs": [],
      "source": [
        "! mkdir ~/.kaggle"
      ]
    },
    {
      "cell_type": "markdown",
      "metadata": {
        "id": "f37iiGLR2dZH"
      },
      "source": []
    },
    {
      "cell_type": "code",
      "execution_count": null,
      "metadata": {
        "id": "URBOKBRKGd6w"
      },
      "outputs": [],
      "source": [
        "!cp /content/drive/MyDrive/kaggle.json ~/.kaggle/kaggle.json"
      ]
    },
    {
      "cell_type": "code",
      "execution_count": null,
      "metadata": {
        "colab": {
          "base_uri": "https://localhost:8080/"
        },
        "id": "5Ha8rpuqGd_p",
        "outputId": "9ee66494-3d24-4e98-db50-328106616a3a"
      },
      "outputs": [],
      "source": [
        "! chmod 600 ~/.kaggle/kaggle.json"
      ]
    },
    {
      "cell_type": "code",
      "execution_count": null,
      "metadata": {
        "colab": {
          "base_uri": "https://localhost:8080/"
        },
        "id": "i-ukiZj1G0o3",
        "outputId": "ac9a40b4-9795-42c4-d4dd-1c41b45be523"
      },
      "outputs": [],
      "source": [
        "! kaggle datasets download valentynsichkar/Traffic-Signs-Preprocessed"
      ]
    },
    {
      "cell_type": "code",
      "execution_count": 2,
      "metadata": {
        "id": "-ahIGo_gT7AW"
      },
      "outputs": [],
      "source": [
        "!mkdir Traffic-Signs-Preprocessed"
      ]
    },
    {
      "cell_type": "code",
      "execution_count": null,
      "metadata": {
        "colab": {
          "base_uri": "https://localhost:8080/"
        },
        "id": "EgY3XYAxG0qs",
        "outputId": "dd00b7db-21a9-4b1b-d600-12db5554d874"
      },
      "outputs": [],
      "source": [
        "! unzip /content/Traffic-Signs-Preprocessed.zip -d Traffic-Signs-Preprocessed"
      ]
    },
    {
      "cell_type": "code",
      "execution_count": null,
      "metadata": {
        "colab": {
          "base_uri": "https://localhost:8080/"
        },
        "id": "x9fWCZwYesRJ",
        "outputId": "051659e3-c196-4822-8250-75c5e1ccd3f2"
      },
      "outputs": [],
      "source": [
        "import pickle\n",
        "import numpy as np\n",
        "import matplotlib.pyplot as plt\n",
        "from tensorflow.keras.utils import to_categorical\n",
        "from tensorflow.keras.models import Sequential\n",
        "from tensorflow.keras.layers import Conv2D, MaxPooling2D, Flatten, Dense, Dropout\n",
        "\n",
        "def load_data(file_path):\n",
        "    with open(file_path, 'rb') as f:\n",
        "        data = pickle.load(f)\n",
        "    return data\n",
        "data0_path = '/content/Traffic-Signs-Preprocessed/data0.pickle'\n",
        "data8_path = '/content/Traffic-Signs-Preprocessed/data8.pickle'\n",
        "\n",
        "data0 = load_data(data0_path)\n",
        "data8 = load_data(data8_path)\n",
        "\n",
        "def reshape_data(data, target_shape):\n",
        "    if data.shape[1:] != target_shape:\n",
        "        data = data.transpose(0, 2, 3, 1)\n",
        "    return data\n",
        "\n",
        "data0['x_train'] = reshape_data(data0['x_train'], (32, 32, 3))\n",
        "data0['x_validation'] = reshape_data(data0['x_validation'], (32, 32, 3))\n",
        "data0['x_test'] = reshape_data(data0['x_test'], (32, 32, 3))\n",
        "\n",
        "data8['x_train'] = reshape_data(data8['x_train'], (32, 32, 1))\n",
        "data8['x_validation'] = reshape_data(data8['x_validation'], (32, 32, 1))\n",
        "data8['x_test'] = reshape_data(data8['x_test'], (32, 32, 1))\n",
        "\n",
        "\n",
        "def preprocess_data(data):\n",
        "    data['x_train'] = data['x_train'] / 255.0\n",
        "    data['x_validation'] = data['x_validation'] / 255.0\n",
        "    data['x_test'] = data['x_test'] / 255.0\n",
        "\n",
        "    num_classes = len(np.unique(data['y_train']))\n",
        "    data['y_train'] = to_categorical(data['y_train'], num_classes)\n",
        "    data['y_validation'] = to_categorical(data['y_validation'], num_classes)\n",
        "    data['y_test'] = to_categorical(data['y_test'], num_classes)\n",
        "\n",
        "    return data\n",
        "\n",
        "data0 = preprocess_data(data0)\n",
        "data8 = preprocess_data(data8)\n",
        "\n",
        "def build_model(input_shape, num_classes):\n",
        "    model = Sequential([\n",
        "        Conv2D(32, (3, 3), activation='relu', input_shape=input_shape),\n",
        "        MaxPooling2D((2, 2)),\n",
        "\n",
        "        Conv2D(64, (3, 3), activation='relu'),\n",
        "        MaxPooling2D((2, 2)),\n",
        "\n",
        "        Conv2D(128, (3, 3), activation='relu'),\n",
        "        MaxPooling2D((2, 2)),\n",
        "\n",
        "        Flatten(),\n",
        "        Dense(128, activation='relu'),\n",
        "        Dropout(0.5),\n",
        "        Dense(num_classes, activation='softmax')\n",
        "    ])\n",
        "\n",
        "    model.compile(optimizer='adam',\n",
        "                  loss='categorical_crossentropy',\n",
        "                  metrics=['accuracy'])\n",
        "    return model\n",
        "\n",
        "input_shape_data0 = (32, 32, 3)\n",
        "input_shape_data8 = (32, 32, 1)\n",
        "num_classes = data0['y_train'].shape[1]\n",
        "\n",
        "model_data0 = build_model(input_shape_data0, num_classes)\n",
        "model_data8 = build_model(input_shape_data8, num_classes)\n",
        "\n",
        "model_data0.summary()\n",
        "model_data8.summary()\n",
        "\n",
        "history_data0 = model_data0.fit(data0['x_train'], data0['y_train'],\n",
        "                                epochs=10,\n",
        "                                batch_size=64,\n",
        "                                validation_data=(data0['x_validation'], data0['y_validation']))\n",
        "\n",
        "history_data8 = model_data8.fit(data8['x_train'], data8['y_train'],\n",
        "                                epochs=10,\n",
        "                                batch_size=64,\n",
        "                                validation_data=(data8['x_validation'], data8['y_validation']))\n"
      ]
    },
    {
      "cell_type": "code",
      "execution_count": 6,
      "metadata": {
        "id": "-FB5krqBNjYs"
      },
      "outputs": [],
      "source": [
        "def load_and_visualize_sample(data, dataset_name='data'):\n",
        "    random_idx = np.random.randint(data['x_train'].shape[0])\n",
        "    sample_image = data['x_train'][random_idx]\n",
        "    sample_label = np.argmax(data['y_train'][random_idx])\n",
        "\n",
        "    plt.imshow(sample_image.squeeze(), cmap='gray' if sample_image.shape[-1] == 1 else None)\n",
        "    plt.title(f'Sample from {dataset_name} - Label: {sample_label}')\n",
        "    plt.axis('off')\n",
        "    plt.show()\n"
      ]
    },
    {
      "cell_type": "code",
      "execution_count": null,
      "metadata": {
        "colab": {
          "base_uri": "https://localhost:8080/"
        },
        "id": "aWZF30FgyqoG",
        "outputId": "e54bf374-e28f-486c-cb14-b0ab4a55ed48"
      },
      "outputs": [],
      "source": [
        "# Evaluate models\n",
        "def evaluate_model(model, x_test, y_test):\n",
        "    y_pred = model.predict(x_test)\n",
        "    y_pred_classes = np.argmax(y_pred, axis=1)\n",
        "    y_true = np.argmax(y_test, axis=1)\n",
        "\n",
        "    accuracy = accuracy_score(y_true, y_pred_classes)\n",
        "    f1 = f1_score(y_true, y_pred_classes, average='weighted')\n",
        "    recall = recall_score(y_true, y_pred_classes, average='weighted')\n",
        "    precision = precision_score(y_true, y_pred_classes, average='weighted')\n",
        "\n",
        "    return accuracy, f1, recall, precision\n",
        "\n",
        "# Evaluate model_data0\n",
        "accuracy_data0, f1_data0, recall_data0, precision_data0 = evaluate_model(model_data0, data0['x_test'], data0['y_test'])\n",
        "\n",
        "# Evaluate model_data8\n",
        "accuracy_data8, f1_data8, recall_data8, precision_data8 = evaluate_model(model_data8, data8['x_test'], data8['y_test'])\n",
        "\n",
        "# Print evaluation results\n",
        "print(\"Evaluation results for model_data0:\")\n",
        "print(f\"Accuracy: {accuracy_data0:.4f}\")\n",
        "print(f\"F1 Score: {f1_data0:.4f}\")\n",
        "print(f\"Recall: {recall_data0:.4f}\")\n",
        "print(f\"Precision: {precision_data0:.4f}\")\n",
        "print()\n",
        "\n",
        "print(\"Evaluation results for model_data8:\")\n",
        "print(f\"Accuracy: {accuracy_data8:.4f}\")\n",
        "print(f\"F1 Score: {f1_data8:.4f}\")\n",
        "print(f\"Recall: {recall_data8:.4f}\")\n",
        "print(f\"Precision: {precision_data8:.4f}\")"
      ]
    }
  ],
  "metadata": {
    "colab": {
      "provenance": []
    },
    "kernelspec": {
      "display_name": "Python 3",
      "language": "python",
      "name": "python3"
    }
  },
  "nbformat": 4,
  "nbformat_minor": 0
}
